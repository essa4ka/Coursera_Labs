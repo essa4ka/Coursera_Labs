{
 "cells": [
  {
   "cell_type": "code",
   "execution_count": null,
   "id": "d5c5ecca",
   "metadata": {},
   "outputs": [],
   "source": [
    "import numpy as np\n",
    "import matplotlib.pyplot as plt\n",
    "from tensorflow.keras.models import Sequential\n",
    "from tensorflow.keras.utils import to_categorical\n",
    "from tensorflow.keras.preprocessing.text import Tokenizer\n",
    "from tensorflow.keras.preprocessing.sequence import pad_sequences\n",
    "from tensorflow.keras.layers import Embedding, LSTM, Dense, Bidirectional"
   ]
  },
  {
   "cell_type": "code",
   "execution_count": null,
   "id": "0770a688",
   "metadata": {},
   "outputs": [],
   "source": [
    "# download sonnets.txt\n",
    "!gdown --id 108jAePKK4R3BVYBbYJZ32JWUwxeMg20K"
   ]
  },
  {
   "cell_type": "code",
   "execution_count": null,
   "id": "56ff5f6a",
   "metadata": {},
   "outputs": [],
   "source": [
    "# define path for file with sonnets\n",
    "SONNETS_FILE = './sonnets.txt'\n",
    "\n",
    "# read the data\n",
    "with open('./sonnets.txt') as f:\n",
    "    data = f.read()\n",
    "\n",
    "# convert to lower case and save as a list\n",
    "corpus = data.lower().split(\"\\n\")"
   ]
  },
  {
   "cell_type": "code",
   "execution_count": null,
   "id": "6df34903",
   "metadata": {},
   "outputs": [],
   "source": [
    "# tokenize the text\n",
    "\n",
    "tokenizer = Tokenizer()\n",
    "tokenizer.fit_on_texts(corpus)\n",
    "total_words = len(tokenizer.word_index) + 1\n"
   ]
  },
  {
   "cell_type": "code",
   "execution_count": null,
   "id": "20e24960",
   "metadata": {},
   "outputs": [],
   "source": [
    "# generating a list of n-gram sequences\n",
    "\n",
    "def n_gram_seqs(corpus, tokenizer):\n",
    "    \n",
    "    input_sequences = []\n",
    "\n",
    "    for line in corpus:\n",
    "      token_list = tokenizer.texts_to_sequences([line])[0]\n",
    "      for i in range(1, len(token_list)):\n",
    "        n_gram_sequence = token_list[:i+1]\n",
    "        input_sequences.append(n_gram_sequence)\n",
    "\n",
    "    return input_sequences\n",
    "\n",
    "\n",
    "input_sequences = n_gram_seqs(corpus, tokenizer)"
   ]
  },
  {
   "cell_type": "code",
   "execution_count": null,
   "id": "a8037876",
   "metadata": {},
   "outputs": [],
   "source": [
    "# saving max length\n",
    "\n",
    "max_sequence_len = max([len(x) for x in input_sequences])"
   ]
  },
  {
   "cell_type": "code",
   "execution_count": null,
   "id": "c202a3f2",
   "metadata": {},
   "outputs": [],
   "source": [
    "# padding tokenized sequences to the same length\n",
    "\n",
    "def pad_seqs(input_sequences, maxlen):\n",
    "    \n",
    "    padded_sequences = []\n",
    "\n",
    "    max_sequence_len = max([len(x) for x in input_sequences])\n",
    "    padded_sequences = np.array(pad_sequences(input_sequences, maxlen=max_sequence_len, padding='pre'))\n",
    "\n",
    "    return padded_sequences\n",
    "\n",
    "\n",
    "input_sequences = pad_seqs(input_sequences, max_sequence_len)"
   ]
  },
  {
   "cell_type": "code",
   "execution_count": null,
   "id": "b980d775",
   "metadata": {},
   "outputs": [],
   "source": [
    "# generating features and labels\n",
    "def features_and_labels(input_sequences, total_words):\n",
    "    \n",
    "    import tensorflow as tf\n",
    "    features = input_sequences[:,:-1]\n",
    "    labels = input_sequences[:,-1]\n",
    "    one_hot_labels = tf.keras.utils.to_categorical(labels, num_classes=total_words)\n",
    "\n",
    "    return features, one_hot_labels\n",
    "\n",
    "features, labels = features_and_labels(input_sequences, total_words)"
   ]
  },
  {
   "cell_type": "code",
   "execution_count": null,
   "id": "42050f2e",
   "metadata": {},
   "outputs": [],
   "source": [
    "# creating a model\n",
    "\n",
    "def create_model(total_words, max_sequence_len):\n",
    "    \n",
    "    model = Sequential()\n",
    "    model.add(Embedding(total_words, 100, input_length=max_sequence_len-1))\n",
    "    model.add(Bidirectional(LSTM(150)))\n",
    "    model.add(Dense(total_words, activation = 'softmax'))\n",
    "\n",
    "    \n",
    "    model.compile(loss='categorical_crossentropy',\n",
    "                  optimizer='adam',\n",
    "                  metrics=['accuracy'])\n",
    "\n",
    "    return model"
   ]
  },
  {
   "cell_type": "code",
   "execution_count": null,
   "id": "77052a5f",
   "metadata": {},
   "outputs": [],
   "source": [
    "model = create_model(total_words, max_sequence_len)\n",
    "\n",
    "history = model.fit(features, labels, epochs=50, verbose=1)"
   ]
  },
  {
   "cell_type": "code",
   "execution_count": null,
   "id": "f489a14b",
   "metadata": {},
   "outputs": [],
   "source": [
    "# results of training model\n",
    "\n",
    "acc = history.history['accuracy']\n",
    "loss = history.history['loss']\n",
    "\n",
    "epochs = range(len(acc))\n",
    "\n",
    "plt.plot(epochs, acc, 'b', label='Training accuracy')\n",
    "plt.title('Training accuracy')\n",
    "\n",
    "plt.figure()\n",
    "\n",
    "plt.plot(epochs, loss, 'b', label='Training Loss')\n",
    "plt.title('Training loss')\n",
    "plt.legend()\n",
    "\n",
    "plt.show()"
   ]
  },
  {
   "cell_type": "code",
   "execution_count": null,
   "id": "33890aca",
   "metadata": {},
   "outputs": [],
   "source": [
    "# predicting words\n",
    "\n",
    "seed_text = \"Help me Obi Wan Kenobi, you're my only hope\"\n",
    "next_words = 100\n",
    "\n",
    "for w in range(next_words):\n",
    "    \n",
    "    token_list = tokenizer.texts_to_sequences([seed_text])[0]\n",
    "    token_list = pad_sequences([token_list], maxlen=max_sequence_len-1, padding='pre')\n",
    "    predicted = model.predict(token_list, verbose=0)\n",
    "    predicted = np.argmax(predicted, axis=-1).item()\n",
    "    output_word = tokenizer.index_word[predicted]\n",
    "    seed_text += \" \" + output_word\n",
    "\n",
    "print(seed_text)"
   ]
  }
 ],
 "metadata": {
  "kernelspec": {
   "display_name": "Python 3 (ipykernel)",
   "language": "python",
   "name": "python3"
  },
  "language_info": {
   "codemirror_mode": {
    "name": "ipython",
    "version": 3
   },
   "file_extension": ".py",
   "mimetype": "text/x-python",
   "name": "python",
   "nbconvert_exporter": "python",
   "pygments_lexer": "ipython3",
   "version": "3.10.9"
  }
 },
 "nbformat": 4,
 "nbformat_minor": 5
}
