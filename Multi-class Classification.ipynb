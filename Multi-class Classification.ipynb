{
 "cells": [
  {
   "cell_type": "markdown",
   "id": "ac6c77d1",
   "metadata": {},
   "source": [
    "# Multi-class Classification\n",
    "\n",
    "In this exercise is used the [Sign Language MNIST](https://www.kaggle.com/datamunge/sign-language-mnist) dataset, which contains 28x28 images of hands depicting the 26 letters of the english alphabet.\n"
   ]
  },
  {
   "cell_type": "code",
   "execution_count": null,
   "id": "aa22b2a8",
   "metadata": {},
   "outputs": [],
   "source": [
    "import csv\n",
    "import string\n",
    "import numpy as np\n",
    "import tensorflow as tf\n",
    "from tensorflow.keras.preprocessing.image import ImageDataGenerator, array_to_img"
   ]
  },
  {
   "cell_type": "code",
   "execution_count": null,
   "id": "b514242a",
   "metadata": {},
   "outputs": [],
   "source": [
    "# Download the training and test sets:\n",
    "!gdown --id 1z0DkA9BytlLxO1C0BAWzknLyQmZAp0HR\n",
    "!gdown --id 1z1BIj4qmri59GWBG4ivMNFtpZ4AXIbzg"
   ]
  },
  {
   "cell_type": "code",
   "execution_count": null,
   "id": "8533bf31",
   "metadata": {},
   "outputs": [],
   "source": [
    "# Define globals with the path to both files:\n",
    "\n",
    "TRAINING_FILE = './sign_mnist_train.csv'\n",
    "VALIDATION_FILE = './sign_mnist_test.csv'\n",
    "\n",
    "# Each file includes a header (the first line) and \n",
    "# each subsequent data point is represented as a line that contains 785 values.\n",
    "\n",
    "# The first value is the label (the numeric representation of each letter) and \n",
    "# the other 784 values are the value of each pixel of the image. "
   ]
  },
  {
   "cell_type": "code",
   "execution_count": null,
   "id": "a7d6ab87",
   "metadata": {},
   "outputs": [],
   "source": [
    "# This function reads a file passed as input and return 2 numpy arrays: \n",
    "# labels and 28x28 representation of each image\n",
    "\n",
    "def parse_data_from_input(filename):\n",
    "    with open(filename) as file:\n",
    "        next(file)\n",
    "        csv_data = np.loadtxt(file, delimiter = ',')\n",
    "        labels = np.array(csv_data[:,0], dtype = np.float64)\n",
    "        \n",
    "        def reshape_element(element):\n",
    "            return np.reshape(element, (28,28))\n",
    "\n",
    "    images = np.array(list(map(reshape_element, csv_data[:,1:])), dtype = np.float64)\n",
    "\n",
    "    return images, labels"
   ]
  },
  {
   "cell_type": "code",
   "execution_count": 1,
   "id": "0ba743e5",
   "metadata": {},
   "outputs": [],
   "source": [
    "# defining datagenerators for training and validation data\n",
    "\n",
    "def train_val_generators(training_images, training_labels, validation_images, validation_labels):\n",
    "\n",
    "    training_images = np.expand_dims(training_images, axis = -1)\n",
    "    \n",
    "    validation_images = np.expand_dims(validation_images, axis = -1)\n",
    "    \n",
    "    train_datagen = ImageDataGenerator(rescale = 1./255,\n",
    "                                       fill_mode='nearest')\n",
    "    \n",
    "    train_generator = train_datagen.flow(x=training_images,\n",
    "                                         y=training_labels,\n",
    "                                         batch_size=32)\n",
    "    \n",
    "    validation_datagen = ImageDataGenerator(rescale = 1./255)\n",
    "    \n",
    "    validation_generator = validation_datagen.flow(x=validation_images,\n",
    "                                                 y=validation_labels,\n",
    "                                                 batch_size=32)\n",
    "\n",
    "    return train_generator, validation_generator"
   ]
  },
  {
   "cell_type": "code",
   "execution_count": null,
   "id": "987667ef",
   "metadata": {},
   "outputs": [],
   "source": [
    "# defining the model itself\n",
    "\n",
    "def create_model():\n",
    "    model = tf.keras.models.Sequential([\n",
    "        tf.keras.layers.Conv2D(32, (3,3), activation = 'relu', input_shape = (28,28,1)),\n",
    "        tf.keras.layers.MaxPooling2D(2,2),\n",
    "        tf.keras.layers.Conv2D(32, (3,3), activation = 'relu'),\n",
    "        tf.keras.layers.MaxPooling2D(2,2),\n",
    "        tf.keras.layers.Flatten(),\n",
    "        tf.keras.layers.Dropout(0.3),\n",
    "        tf.keras.layers.Dense(512, activation = 'relu'),\n",
    "        tf.keras.layers.Dense(26, activation = 'softmax')\n",
    "    ])\n",
    "    \n",
    "    model.compile(optimizer = 'rmsprop',\n",
    "                  loss = 'sparse_categorical_crossentropy',\n",
    "                  metrics=['accuracy'])\n",
    "    \n",
    "    return model"
   ]
  },
  {
   "cell_type": "code",
   "execution_count": null,
   "id": "64991356",
   "metadata": {},
   "outputs": [],
   "source": [
    "model = create_model()\n",
    "\n",
    "history = model.fit(train_generator,\n",
    "                    epochs=15,\n",
    "                    validation_data=validation_generator)"
   ]
  }
 ],
 "metadata": {
  "kernelspec": {
   "display_name": "Python 3 (ipykernel)",
   "language": "python",
   "name": "python3"
  },
  "language_info": {
   "codemirror_mode": {
    "name": "ipython",
    "version": 3
   },
   "file_extension": ".py",
   "mimetype": "text/x-python",
   "name": "python",
   "nbconvert_exporter": "python",
   "pygments_lexer": "ipython3",
   "version": "3.10.9"
  }
 },
 "nbformat": 4,
 "nbformat_minor": 5
}
